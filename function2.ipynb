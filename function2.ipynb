{
 "cells": [
  {
   "cell_type": "code",
   "execution_count": 1,
   "id": "00473740-56da-4472-adcf-6b9d36b1ab08",
   "metadata": {},
   "outputs": [],
   "source": [
    "'''\n",
    "Functions warm-up\n",
    "Fill in the code for the three functions defined in the exercise. The specifications \n",
    "for each are provided below:\n",
    "\n",
    "func_0: This function takes two integer lists of equal length as parameters and \n",
    "compares elements in the first list with elements in the second and uses the smaller value of each such comparison to form a third list. Once all elements have been compared the function returns the third list. Assume there are no duplicate values. Example below:\n",
    "\n",
    "arr_1 = [5,9,3]\n",
    "\n",
    "arr_2 = [2,16,4]\n",
    "\n",
    "If func_0 was called with the two lists arr_1 and arr_2 above as arguments, it would \n",
    "return the list [2,9,3]\n",
    "\n",
    "func_1: This function takes two lists of equal length as parameters and performs \n",
    "a sort on each list to get a copy of the lists in ascending order. It then calls\n",
    "func_0 with these two sorted lists and gets back one list containing the lower \n",
    "values at each index from func_0. It then returns this list. Assume there are \n",
    "no duplicate values in either list. Example below:\n",
    "\n",
    "arr_1 = [6,3,9]\n",
    "\n",
    "arr_2 = [11,2,4]\n",
    "\n",
    "If func_1 was called with the two lists arr_1 and arr_2 above as arguments, it would\n",
    "return [2,4,9]\n",
    "\n",
    "func_2: This function takes a string and adds an -> in-between each character in \n",
    "the string. If func_2 was called with the string \"hello\", it would return the \n",
    "string \"h->e->l->l->o\". Assume there are no empty spaces in the string.\n",
    "'''\n",
    "def func_0(arr_1, arr_2):\n",
    "    ans = []\n",
    "    for i in range(len(arr_1)):\n",
    "        if arr_1[i] < arr_2[i]:\n",
    "            ans.append(arr_1[i])\n",
    "        else:\n",
    "            ans.append(arr_2[i])\n",
    "    return ans\n",
    "\n",
    "def func_1(arr_1, arr_2):\n",
    "    return func_0(sorted(arr_1), sorted(arr_2))\n",
    "\n",
    "def func_2(my_string):\n",
    "    ans = []\n",
    "    for i in range(len(my_string) - 1):\n",
    "        ans.append(my_string[i])\n",
    "        ans.append('->')\n",
    "    ans.append(my_string[-1])\n",
    "    return \"\".join(ans)"
   ]
  },
  {
   "cell_type": "code",
   "execution_count": null,
   "id": "8b8c5eb0-050e-4abc-9f5a-f6ab43933e1b",
   "metadata": {},
   "outputs": [],
   "source": []
  }
 ],
 "metadata": {
  "kernelspec": {
   "display_name": "Python 3 (ipykernel)",
   "language": "python",
   "name": "python3"
  },
  "language_info": {
   "codemirror_mode": {
    "name": "ipython",
    "version": 3
   },
   "file_extension": ".py",
   "mimetype": "text/x-python",
   "name": "python",
   "nbconvert_exporter": "python",
   "pygments_lexer": "ipython3",
   "version": "3.9.13"
  }
 },
 "nbformat": 4,
 "nbformat_minor": 5
}
