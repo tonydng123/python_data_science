{
 "cells": [
  {
   "cell_type": "code",
   "execution_count": 8,
   "id": "16233d1d-ee92-4c7c-a090-63dbb5b426b1",
   "metadata": {},
   "outputs": [
    {
     "name": "stdout",
     "output_type": "stream",
     "text": [
      "27 found at index 108\n",
      "27 found at index 108\n",
      "27 found at index 108\n",
      "Please choose an option from the list below:\n",
      "Press 1 for selection 1\n",
      "Press 2 for selection 2\n",
      "Press 3 to quit\n"
     ]
    },
    {
     "name": "stdin",
     "output_type": "stream",
     "text": [
      "Enter your choice->  1\n"
     ]
    },
    {
     "name": "stdout",
     "output_type": "stream",
     "text": [
      "Please choose an option from the list below:\n",
      "Press 1 for selection 1\n",
      "Press 2 for selection 2\n",
      "Press 3 to quit\n"
     ]
    },
    {
     "name": "stdin",
     "output_type": "stream",
     "text": [
      "Enter your choice->  2\n"
     ]
    },
    {
     "name": "stdout",
     "output_type": "stream",
     "text": [
      "Please choose an option from the list below:\n",
      "Press 1 for selection 1\n",
      "Press 2 for selection 2\n",
      "Press 3 to quit\n"
     ]
    },
    {
     "name": "stdin",
     "output_type": "stream",
     "text": [
      "Enter your choice->  3\n"
     ]
    },
    {
     "name": "stdout",
     "output_type": "stream",
     "text": [
      "[('python', '.py'), ('javascript', '.js'), ('ruby', '.rb'), ('java', '.java'), ('c', '.c')]\n"
     ]
    }
   ],
   "source": [
    "from random import randint\n",
    "l1 = [randint(1,100) for num in range(1000)]\n",
    "i = 0\n",
    "num_to_search = 27\n",
    "while i < len(l1):\n",
    "    if l1[i] == num_to_search:\n",
    "        print(f\"{num_to_search} found at index {i}\")\n",
    "        break\n",
    "    i += 1\n",
    "for j in range(len(l1)):\n",
    "    if l1[j] == num_to_search:\n",
    "        print(f\"{num_to_search} found at index {j}\")\n",
    "        break\n",
    "        \n",
    "for index, num in enumerate(l1):\n",
    "    if num == num_to_search:\n",
    "        print(f\"{num_to_search} found at index {index}\")\n",
    "        break\n",
    "        \n",
    "while True:\n",
    "    print(\"Please choose an option from the list below:\")\n",
    "    print(\"Press 1 for selection 1\")\n",
    "    print(\"Press 2 for selection 2\")\n",
    "    print(\"Press 3 to quit\")\n",
    "    selection = input(\"Enter your choice-> \")\n",
    "    if int(selection) == 3:\n",
    "        break\n",
    "        \n",
    "l1 = ['.py', '.js', '.rb', '.java', '.c']\n",
    "l2 = ['python', 'javascript', 'ruby', 'java', 'c']\n",
    "tupled_list = list(zip(l2, l1))\n",
    "print(tupled_list)"
   ]
  },
  {
   "cell_type": "code",
   "execution_count": null,
   "id": "cec00350-ad6a-4210-a6c7-ecbaa50f5f60",
   "metadata": {},
   "outputs": [],
   "source": []
  }
 ],
 "metadata": {
  "kernelspec": {
   "display_name": "Python 3 (ipykernel)",
   "language": "python",
   "name": "python3"
  },
  "language_info": {
   "codemirror_mode": {
    "name": "ipython",
    "version": 3
   },
   "file_extension": ".py",
   "mimetype": "text/x-python",
   "name": "python",
   "nbconvert_exporter": "python",
   "pygments_lexer": "ipython3",
   "version": "3.9.13"
  }
 },
 "nbformat": 4,
 "nbformat_minor": 5
}
