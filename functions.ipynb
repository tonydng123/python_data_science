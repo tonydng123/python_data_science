{
 "cells": [
  {
   "cell_type": "code",
   "execution_count": 1,
   "id": "75b4ad2f-da14-4ea7-aedf-8bc72850d643",
   "metadata": {},
   "outputs": [],
   "source": [
    "# Note: We will practice writing some more simple functions in this exercise\n",
    "\n",
    "# Question 1: Write a function called simple_mult. It takes 2 arguments\n",
    "# as parameters and returns their multiplied value. Assume only numbers are\n",
    "# passed in as arguments, so you don't have to test for if the parameters\n",
    "# are numbers are not.\n",
    "## Write your code below\n",
    "def simple_mult(num1, num2):\n",
    "    return num1 * num2\n",
    "\n",
    "# End question 1\n",
    "\n",
    "# Question 2: Create a new function called simple_mult_premium(). This will\n",
    "# take two numbers as parameters (int or float). You will need to check for if\n",
    "# both the parameters passed in are either of type \"int\" or \"float\" and return\n",
    "# their multiplied value if they are. If either of them are not \"int\" or \"float\"\n",
    "# return the string \"Need either int or float\". You can use the isinstance\n",
    "# function to test the type of the parameter. Example if you were testing num_1,\n",
    "# you can use code like isinstance(num_1, (int, float)) to test for int or float.\n",
    "# This expression will return True if num_1 is of type int or float (passed in\n",
    "# as a tuple here). You can also do this individually like below\n",
    "# isinstance(num_1, int)\n",
    "## Write your code below\n",
    "def simple_mult_premium(num1, num2):\n",
    "    ans = 0 \n",
    "    if isinstance(num1, (int, float)) and isinstance(num2, (int, float)):\n",
    "        ans = num1 * num2\n",
    "    else:\n",
    "        ans = \"Need either int or float\"\n",
    "    return ans\n",
    "\n",
    "# End question 2\n",
    "\n",
    "# Question 3: Create a new function called create_divider() which takes a string\n",
    "# as an argument and multiplies it by 40 to create a line full of the string\n",
    "# and prints it out to the screen. Example \"-\" * 10 would give you\n",
    "# ---------- so you can then use this function later on to create dividers in\n",
    "# your output if you wanted. Remember to multiply by 40 and not 10.\n",
    "## Write your code below\n",
    "def create_divider(str_input):\n",
    "    print(str_input * 40)\n",
    "\n",
    "# End question 3"
   ]
  },
  {
   "cell_type": "code",
   "execution_count": null,
   "id": "615172b8-f71e-4bce-90ba-9226fbe0ee71",
   "metadata": {},
   "outputs": [],
   "source": []
  }
 ],
 "metadata": {
  "kernelspec": {
   "display_name": "Python 3 (ipykernel)",
   "language": "python",
   "name": "python3"
  },
  "language_info": {
   "codemirror_mode": {
    "name": "ipython",
    "version": 3
   },
   "file_extension": ".py",
   "mimetype": "text/x-python",
   "name": "python",
   "nbconvert_exporter": "python",
   "pygments_lexer": "ipython3",
   "version": "3.9.13"
  }
 },
 "nbformat": 4,
 "nbformat_minor": 5
}
