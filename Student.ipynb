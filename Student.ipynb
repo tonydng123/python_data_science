{
 "cells": [
  {
   "cell_type": "code",
   "execution_count": 15,
   "id": "d7c93b45-d4d4-4146-8c04-d2cf556af6a9",
   "metadata": {},
   "outputs": [
    {
     "name": "stdout",
     "output_type": "stream",
     "text": [
      "First name: Emily\n",
      "Last name: Nguyen\n",
      "Courses: Python, Rails, Javascript\n",
      "3\n",
      "Student('emily','nguyen','['python', 'rails', 'javascript']')\n",
      "First name: John\n",
      "Last name: Doe\n",
      "Courses: Java, Rails, C\n",
      "Student('john','doe','['java', 'rails', 'c']')\n"
     ]
    }
   ],
   "source": [
    "class Student:\n",
    "    def __init__(self, first, last, courses=None):\n",
    "        self.last_name = last\n",
    "        self.first_name = first\n",
    "        if courses == None:\n",
    "            self.courses = []\n",
    "        else: \n",
    "            self.courses = courses\n",
    "            \n",
    "    def add_course(self, course):\n",
    "        if course not in self.courses:\n",
    "            self.courses.append(course)\n",
    "        else:\n",
    "            print(f\"{self.first_name} is already \\\n",
    "            enrolled in the {course} course\")\n",
    "            \n",
    "    def remove_course(self, course):\n",
    "        if course in self.courses:\n",
    "            self.courses.remove(course)\n",
    "        else:\n",
    "            print(f\"{course} not found\")\n",
    "    \n",
    "    def __len__(self):\n",
    "        return len(self.courses)\n",
    "    \n",
    "    def __repr__(self):\n",
    "        return f\"Student('{self.first_name}','{self.last_name}','{self.courses}')\"\n",
    "    \n",
    "    def __str__(self):\n",
    "        return f\"First name: {self.first_name.capitalize()}\\nLast name: {self.last_name.capitalize()}\\nCourses: {', '.join(map(str.capitalize, self.courses))}\"\n",
    "\n",
    "course_1 = ['python', 'rails', 'javascript']\n",
    "course_2 = ['java', 'rails', 'c']\n",
    "emily = Student(\"emily\", \"nguyen\", course_1)\n",
    "john = Student(\"john\", \"doe\", course_2)\n",
    "print(emily)\n",
    "print(len(emily))\n",
    "print(repr(emily))\n",
    "print(john)\n",
    "print(repr(john))"
   ]
  },
  {
   "cell_type": "code",
   "execution_count": null,
   "id": "175ffe0a-6be9-4a92-ac86-1f74a5988382",
   "metadata": {},
   "outputs": [],
   "source": []
  }
 ],
 "metadata": {
  "kernelspec": {
   "display_name": "Python 3 (ipykernel)",
   "language": "python",
   "name": "python3"
  },
  "language_info": {
   "codemirror_mode": {
    "name": "ipython",
    "version": 3
   },
   "file_extension": ".py",
   "mimetype": "text/x-python",
   "name": "python",
   "nbconvert_exporter": "python",
   "pygments_lexer": "ipython3",
   "version": "3.9.13"
  }
 },
 "nbformat": 4,
 "nbformat_minor": 5
}
