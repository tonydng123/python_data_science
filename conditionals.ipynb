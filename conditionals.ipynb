{
 "cells": [
  {
   "cell_type": "code",
   "execution_count": 24,
   "id": "5240638d-ea6d-4434-b39c-371bcf011ae2",
   "metadata": {},
   "outputs": [
    {
     "name": "stdout",
     "output_type": "stream",
     "text": [
      "Welcome to the calc program\n",
      "------------------------------\n"
     ]
    },
    {
     "name": "stdin",
     "output_type": "stream",
     "text": [
      "Choose 1 to multiply, 2 to divide->  1\n",
      "Enter first number->  3\n",
      "Enter second number->  4\n"
     ]
    },
    {
     "name": "stdout",
     "output_type": "stream",
     "text": [
      "3 multiplied by 4 is: 12\n",
      "Access granted\n",
      "Temporary access granted, check payment status\n",
      "User access\n"
     ]
    }
   ],
   "source": [
    "# Branching - if, elif, else\n",
    "# conditionals evaluating to boolean - True or False\n",
    "\n",
    "print(\"Welcome to the calc program\")\n",
    "print(\"-\"*30)\n",
    "choice = input(\"Choose 1 to multiply, 2 to divide-> \")\n",
    "if choice == \"1\" or choice == \"2\":\n",
    "    num_1 = int(input(\"Enter first number-> \"))\n",
    "    num_2 = int(input(\"Enter second number-> \"))\n",
    "    if choice == \"1\":\n",
    "        print(f\"{num_1} multiplied by {num_2} is: {num_1 * num_2}\")\n",
    "    else:\n",
    "        print(f\"{num_1} divided by {num_2} is: {num_1 / num_2}\")\n",
    "else:\n",
    "    print(\"You've mad an invalid selection\")\n",
    "    \n",
    "# Question 1: Write an if/else condition to print \"Access granted\"\n",
    "# if the account variable is equal to the string \"verified\" AND\n",
    "# payment_status is \"paid\". Else print \"Access denied\".\n",
    "account = \"verified\"\n",
    "payment_status = \"paid\"\n",
    "## Write your code below (variable number of lines)\n",
    "if account == \"verified\" and payment_status == \"paid\":\n",
    "    print(\"Access granted\")\n",
    "else:\n",
    "    print(\"Access denied\")\n",
    "\n",
    "## End question 1\n",
    "\n",
    "# Question 2: Modify your code above and introduce a check for\n",
    "# if account == \"verified\" and payment_status == \"pending\", then\n",
    "# print \"Temporary access granted, check payment status\", if the\n",
    "# payment status does not match either \"pending\" or \"paid\" (and\n",
    "# the account is still verified) then print \"Access denied, check payment\". \n",
    "# Other conditions from question 1 above still apply.\n",
    "account = \"verified\"\n",
    "payment_status = \"pending\"\n",
    "## Write your code below (variable number of lines)\n",
    "if account == \"verified\":\n",
    "    if payment_status == \"paid\":\n",
    "        print(\"Access granted\")\n",
    "    elif payment_status == \"pending\":\n",
    "        print(\"Temporary access granted, check payment status\")\n",
    "    else:\n",
    "        print(\"Access denied, check payment\")\n",
    "\n",
    "## Copy/paste your code (entire block for question 2) below, this\n",
    "# if for a separate test for payment_status\n",
    "payment_status = \"blocked\"\n",
    "\n",
    "\n",
    "## End question 2\n",
    "\n",
    "# Question 3: Write an if/elif/else condition to check for the 3 account\n",
    "# types below and print the corresponding statement. If account type\n",
    "# matches none of these then it should print \"Access denied\"\n",
    "# a) account_type == \"admin\", should result in print \"Admin access\"\n",
    "# b) account_type == \"mod\", should result in print \"Moderator access\"\n",
    "# c) account_type == \"user\", should result in print \"User access\"\n",
    "account_type = \"user\"\n",
    "## Write your code below (variable number of lines)\n",
    "if account_type == \"admin\":\n",
    "    print(\"Admin access\")\n",
    "elif account_type == \"mod\":\n",
    "    print(\"Moderator access\")\n",
    "elif account_type == \"user\":\n",
    "    print(\"User access\")\n",
    "\n",
    "## End question 3\n"
   ]
  },
  {
   "cell_type": "code",
   "execution_count": null,
   "id": "b3b1da10-0bd1-4729-9d26-bed14048e035",
   "metadata": {},
   "outputs": [],
   "source": []
  }
 ],
 "metadata": {
  "kernelspec": {
   "display_name": "Python 3 (ipykernel)",
   "language": "python",
   "name": "python3"
  },
  "language_info": {
   "codemirror_mode": {
    "name": "ipython",
    "version": 3
   },
   "file_extension": ".py",
   "mimetype": "text/x-python",
   "name": "python",
   "nbconvert_exporter": "python",
   "pygments_lexer": "ipython3",
   "version": "3.9.13"
  }
 },
 "nbformat": 4,
 "nbformat_minor": 5
}
