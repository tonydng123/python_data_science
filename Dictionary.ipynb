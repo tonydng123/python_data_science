{
 "cells": [
  {
   "cell_type": "code",
   "execution_count": 9,
   "id": "57f58210-e8d8-4203-8dcb-f9e4ef40158b",
   "metadata": {},
   "outputs": [
    {
     "name": "stdout",
     "output_type": "stream",
     "text": [
      "{'name': 'Tony', 'course': 'Python', 'fav_food': 'Pho'}\n",
      "{'apple': 'the round fruit of a tree', 'ant': 'an insect which cleans up the floor'}\n",
      "do your own work of poor quality or low standard\n",
      "Tony\n",
      "dict_keys(['name', 'course', 'fav_food', 'job'])\n"
     ]
    }
   ],
   "source": [
    "my_dict = {'name': 'Tony', 'course': 'Python', 'fav_food': 'Pho' }\n",
    "phone_dict = {'tony': '222-333-4444',\n",
    "              'zoo': '111-111-1111',\n",
    "              'john': 'not-exis-ance'\n",
    "             }\n",
    "word_dict = {\n",
    "    'a': {\n",
    "        'apple': 'the round fruit of a tree',\n",
    "        'ant': 'an insect which cleans up the floor'\n",
    "    },\n",
    "    'b': {\n",
    "        'bad': 'of poor quality or low standard',\n",
    "        'business': 'do your own work'\n",
    "    }\n",
    "}\n",
    "print(my_dict)\n",
    "print(word_dict['a'])\n",
    "print(word_dict['b']['business'], word_dict['b']['bad'])\n",
    "print(my_dict.get('name'))\n",
    "my_dict['job'] = 'Python Programmer'\n",
    "print(my_dict.keys())\n",
    "print(my_dict.s())"
   ]
  },
  {
   "cell_type": "code",
   "execution_count": null,
   "id": "1a3ac1c4-60b2-4a54-9b43-ea505446e8b8",
   "metadata": {},
   "outputs": [],
   "source": []
  }
 ],
 "metadata": {
  "kernelspec": {
   "display_name": "Python 3 (ipykernel)",
   "language": "python",
   "name": "python3"
  },
  "language_info": {
   "codemirror_mode": {
    "name": "ipython",
    "version": 3
   },
   "file_extension": ".py",
   "mimetype": "text/x-python",
   "name": "python",
   "nbconvert_exporter": "python",
   "pygments_lexer": "ipython3",
   "version": "3.9.13"
  }
 },
 "nbformat": 4,
 "nbformat_minor": 5
}
