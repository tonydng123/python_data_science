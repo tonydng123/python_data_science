{
 "cells": [
  {
   "cell_type": "code",
   "execution_count": 5,
   "id": "0e3b925b-b973-4f8b-bbb1-ed7ab6090a27",
   "metadata": {},
   "outputs": [
    {
     "name": "stdout",
     "output_type": "stream",
     "text": [
      "dog\n",
      "OrderedDict([('pet', 'dog'), ('second_pet', 'cat'), ('first_child', 'boy'), ('second_child', 'girl')])\n",
      "OrderedDict([('pet', 'hamster'), ('second_pet', 'cat'), ('first_child', 'boy'), ('second_child', 'girl')])\n"
     ]
    }
   ],
   "source": [
    "from collections import OrderedDict\n",
    "# Question 1: Create an empty dictionary called life_book of type OrderedDict. \n",
    "# From Python 3.6 onwards dictionaries maintain the order in which they were \n",
    "# created, however, this coding environment uses an earlier version of Python 3.\n",
    "# Therefore, use OrderedDict in this case, example my_dict = OrderedDict().\n",
    "# Once created, use the print function to print it.\n",
    "## Write your code below, 2 lines\n",
    "life_book = OrderedDict()\n",
    "\n",
    "# End question 1\n",
    "\n",
    "# Question 2: Add the following key, value pair to the life_book dictionary\n",
    "# 'pet' -> 'dog', so the key is pet and the value is dog and then print it.\n",
    "## Write your code below, 2 lines\n",
    "life_book['pet'] = 'dog'\n",
    "print(life_book['pet'])\n",
    "# End question 2\n",
    "\n",
    "# Question 3: Add the following key, value pairs to the dictionary\n",
    "# 'second_pet' -> 'cat'\n",
    "# 'first_child' -> 'boy'\n",
    "# 'second_child' -> 'girl'\n",
    "# Once added, print the dictionary.\n",
    "## Write your code below, variable lines\n",
    "life_book['second_pet'] = 'cat'\n",
    "life_book['first_child'] = 'boy'\n",
    "life_book['second_child'] = 'girl'\n",
    "print(life_book)\n",
    "# End question 3\n",
    "\n",
    "# Question 4: Update the value associated with key 'pet' to be 'hamster', then\n",
    "# print the dictionary.\n",
    "## Write your code below, 2 lines\n",
    "life_book['pet'] = 'hamster'\n",
    "print(life_book)\n",
    "# End question 4\n",
    "\n",
    "# Question 5: Given the dictionary below, use the items() method and save\n",
    "# the value of all the key value pairs to the variable courses_iterable.\n",
    "my_courses = {'a':'python', 'b':'javascript', 'c':'ruby on rails', 'd':'machine learning', 'e':'ai'}\n",
    "## Write your code below, 1 line\n",
    "courses_iterable = []\n",
    "for key, value in my_courses.items():\n",
    "    courses_iterable.append(value)\n",
    "# End question 5\n"
   ]
  },
  {
   "cell_type": "code",
   "execution_count": null,
   "id": "3452a976-be9d-4f95-b60f-dfff5d868a8f",
   "metadata": {},
   "outputs": [],
   "source": []
  }
 ],
 "metadata": {
  "kernelspec": {
   "display_name": "Python 3 (ipykernel)",
   "language": "python",
   "name": "python3"
  },
  "language_info": {
   "codemirror_mode": {
    "name": "ipython",
    "version": 3
   },
   "file_extension": ".py",
   "mimetype": "text/x-python",
   "name": "python",
   "nbconvert_exporter": "python",
   "pygments_lexer": "ipython3",
   "version": "3.9.13"
  }
 },
 "nbformat": 4,
 "nbformat_minor": 5
}
