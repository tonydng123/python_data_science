{
 "cells": [
  {
   "cell_type": "code",
   "execution_count": 1,
   "id": "209514bf-8866-4e6c-a774-120da5b8fee3",
   "metadata": {},
   "outputs": [
    {
     "name": "stdout",
     "output_type": "stream",
     "text": [
      "The price of stock is: $1100\n"
     ]
    }
   ],
   "source": [
    "price = \"$1100\" \n",
    "message = \"The price of stock is:\"\n",
    "message = message + \" \" + price\n",
    "print(message)"
   ]
  },
  {
   "cell_type": "code",
   "execution_count": 2,
   "id": "2c13bf1c-67b6-4ca3-bbc2-e851898c25a2",
   "metadata": {},
   "outputs": [
    {
     "name": "stdout",
     "output_type": "stream",
     "text": [
      "hello mashrur welcome to the Algorithms course\n"
     ]
    }
   ],
   "source": [
    "greeting = \"hello\"\n",
    "user = \"mashrur\"\n",
    "message = \"welcome to the Algorithms course\"\n",
    "print(greeting, user, message)"
   ]
  },
  {
   "cell_type": "code",
   "execution_count": 3,
   "id": "0ae5992f-ff60-4432-8b3a-daf91275e332",
   "metadata": {},
   "outputs": [
    {
     "name": "stdout",
     "output_type": "stream",
     "text": [
      "hello Mashrur welcome to the Algorithms course\n"
     ]
    }
   ],
   "source": [
    "print(greeting, user.capitalize(), message)"
   ]
  },
  {
   "cell_type": "code",
   "execution_count": 4,
   "id": "cb8080ee-2db2-4369-902b-00ceab19cf93",
   "metadata": {},
   "outputs": [
    {
     "name": "stdout",
     "output_type": "stream",
     "text": [
      "['__add__', '__class__', '__contains__', '__delattr__', '__dir__', '__doc__', '__eq__', '__format__', '__ge__', '__getattribute__', '__getitem__', '__getnewargs__', '__gt__', '__hash__', '__init__', '__init_subclass__', '__iter__', '__le__', '__len__', '__lt__', '__mod__', '__mul__', '__ne__', '__new__', '__reduce__', '__reduce_ex__', '__repr__', '__rmod__', '__rmul__', '__setattr__', '__sizeof__', '__str__', '__subclasshook__', 'capitalize', 'casefold', 'center', 'count', 'encode', 'endswith', 'expandtabs', 'find', 'format', 'format_map', 'index', 'isalnum', 'isalpha', 'isascii', 'isdecimal', 'isdigit', 'isidentifier', 'islower', 'isnumeric', 'isprintable', 'isspace', 'istitle', 'isupper', 'join', 'ljust', 'lower', 'lstrip', 'maketrans', 'partition', 'removeprefix', 'removesuffix', 'replace', 'rfind', 'rindex', 'rjust', 'rpartition', 'rsplit', 'rstrip', 'split', 'splitlines', 'startswith', 'strip', 'swapcase', 'title', 'translate', 'upper', 'zfill']\n"
     ]
    }
   ],
   "source": [
    "print(dir(user))"
   ]
  },
  {
   "cell_type": "code",
   "execution_count": 5,
   "id": "c997c265-4a82-4170-9b81-a34114b28980",
   "metadata": {},
   "outputs": [
    {
     "name": "stdout",
     "output_type": "stream",
     "text": [
      "HELLO\n"
     ]
    }
   ],
   "source": [
    "print(greeting.upper())"
   ]
  },
  {
   "cell_type": "code",
   "execution_count": 6,
   "id": "bbf0cb6c-63e5-4c7e-b9a3-4d936ec66cce",
   "metadata": {},
   "outputs": [
    {
     "name": "stdout",
     "output_type": "stream",
     "text": [
      "welcome to the algorithms course\n"
     ]
    }
   ],
   "source": [
    "print(message.lower())"
   ]
  },
  {
   "cell_type": "code",
   "execution_count": 8,
   "id": "55b43bf3-230d-4b86-96dd-3b68a9f6fa88",
   "metadata": {},
   "outputs": [
    {
     "name": "stdout",
     "output_type": "stream",
     "text": [
      "WELCOME TO THE ALGORITHMS COURSE\n"
     ]
    }
   ],
   "source": [
    "message = \"   welcome to the algorithms course   \"\n",
    "print(message.strip().upper())"
   ]
  },
  {
   "cell_type": "code",
   "execution_count": 9,
   "id": "10c9b823-56d5-4ffb-96bd-0cfaa7ac786a",
   "metadata": {},
   "outputs": [
    {
     "name": "stdout",
     "output_type": "stream",
     "text": [
      "26\n",
      "-1\n"
     ]
    }
   ],
   "source": [
    "message = \"welcome to the Algorithms course\"\n",
    "print(message.find('course'))\n",
    "print(message.find('z'))"
   ]
  },
  {
   "cell_type": "code",
   "execution_count": 10,
   "id": "659eccda-baee-4a2d-befe-669b9faccb39",
   "metadata": {},
   "outputs": [
    {
     "name": "stdout",
     "output_type": "stream",
     "text": [
      "['welcome', 'to', 'the', 'Algorithms', 'course']\n"
     ]
    }
   ],
   "source": [
    "print(message.split())"
   ]
  },
  {
   "cell_type": "code",
   "execution_count": 12,
   "id": "d5784a71-8c3b-4d39-af77-15e965a18007",
   "metadata": {},
   "outputs": [
    {
     "name": "stdout",
     "output_type": "stream",
     "text": [
      "Python Ruby Javascript\n"
     ]
    }
   ],
   "source": [
    "my_languages = ['Python', 'Ruby', 'Javascript']\n",
    "print(\" \".join(my_languages))"
   ]
  },
  {
   "cell_type": "code",
   "execution_count": 13,
   "id": "ab0eaace-49b7-4ff3-be9e-a120a011d921",
   "metadata": {},
   "outputs": [
    {
     "name": "stdout",
     "output_type": "stream",
     "text": [
      "abcdefghijklmnopqrstuvwxyz\n"
     ]
    }
   ],
   "source": [
    "import string\n",
    "print(string.ascii_lowercase)"
   ]
  },
  {
   "cell_type": "code",
   "execution_count": 37,
   "id": "a8dc1754-efe1-4b2d-ab3f-de466d915ce4",
   "metadata": {},
   "outputs": [
    {
     "name": "stdout",
     "output_type": "stream",
     "text": [
      "30\n",
      "28\n",
      "If we used yesterday's stock price instead, it would result in a 2% increase in the value of our assets\n",
      "True\n",
      "I am the second half\n",
      "0123456789abcdefABCDEF\n"
     ]
    }
   ],
   "source": [
    "# Question 1: Given the string below, use the find method to determine\n",
    "# what index the word \"universe\" starts in? (and print it)\n",
    "my_string = \"There's a lot going on in the universe don't you think?\"\n",
    "## Write your code below, 1 line ##\n",
    "print(my_string.find(\"universe\"))\n",
    "## End question 1\n",
    "\n",
    "# Question 2: Create a variable my_slice. Using a step size of 2, assign\n",
    "# it to a slice of my_string from the beginning to the end (the whole string)\n",
    "# including white spaces. Print how many characters are in this new string? (my_slice)\n",
    "## Write your code below, 2 lines ##\n",
    "my_slice = my_string[::2]\n",
    "print(len(my_slice))\n",
    "\n",
    "## End question 2\n",
    "\n",
    "# Question 3: Given the two string below, use string concatenation to\n",
    "# create and print one string (one followed by the other) seperated by a\n",
    "# comma and a space \", \"\n",
    "bright_idea = \"If we used yesterday's stock price instead\"\n",
    "result = \"it would result in a 2% increase in the value of our assets\"\n",
    "## Write your code below, 1 line ##\n",
    "print(bright_idea + \", \" + result)\n",
    "## End question 3\n",
    "\n",
    "# Question 4: You can test whether one string is equal to another by using the\n",
    "# equality test operator '=='. For example if you wanted to test whether \"Harry\"\n",
    "# was equal to \"Harry\", you would use the following code \"Harry\" == \"Harry\".\n",
    "# Python would evaluate that expression to True (capital T). If you tested if\n",
    "# \"Harry\" == \"harry\" instead, Python would evaluate that to False (capital F)\n",
    "# since \"harry\" in the second case is not capitalized. Given the string\n",
    "# word_to_test below, write and print an equality test in one line to check if\n",
    "# the string would be equal to a string if the order of its characters were\n",
    "# reversed. Hint: You can use the slice reverse trick.\n",
    "word_to_test = \"level\"\n",
    "## Write your code below, 1 line ##\n",
    "print(word_to_test == word_to_test[::-1])\n",
    "## End question 4\n",
    "\n",
    "# Question 5: You can use the len function to get the total characters or\n",
    "# 'length' of a string. For example len(\"hello\") will give you 5. If you divide\n",
    "# this length by 2 using the floor division operator '//', you can get the index\n",
    "# at half of your string. You can then use slice notation to capture half of\n",
    "# your string since you know the length//2. With this knowledge, print out the\n",
    "# second half of the string below in one line. Output should be \"I am the second\n",
    "# half\".\n",
    "my_daily_thought = \"I am the first half I am the second half\"\n",
    "## Write your code below, 1 line ##\n",
    "print(my_daily_thought[len(my_daily_thought) // 2:])\n",
    "## End question 5\n",
    "\n",
    "# Question 6: Import the hexdigits constant from the string module and print\n",
    "# them out.\n",
    "## Write your code below, 2 lines ##\n",
    "from string import hexdigits\n",
    "print(hexdigits)\n",
    "\n",
    "## End queston 6\n"
   ]
  },
  {
   "cell_type": "code",
   "execution_count": 46,
   "id": "868d7727-b17b-40b7-ab72-487d96c6cad3",
   "metadata": {},
   "outputs": [
    {
     "name": "stdout",
     "output_type": "stream",
     "text": [
      "Today's price for google stock is $1200\n",
      "Today's price: 1100, yesterday's price: 1000\n",
      "Today's price: 1100, yesterday's price: 1000\n",
      "My name is jon snow and \n",
      "not only do I know nothing by\n",
      "I also do nothing\n",
      "I'm using the \\n special character to create new lines\n"
     ]
    }
   ],
   "source": [
    "# print format\n",
    "stock_price = \"1200\"\n",
    "print(f\"Today's price for google stock is ${stock_price}\")\n",
    "today_price = \"1100\"\n",
    "yesterday_price = \"1000\"\n",
    "print(\"Today's price: {}, yesterday's price: {}\".format(today_price, yesterday_price))\n",
    "print(f\"Today's price: {today_price}, yesterday's price: {yesterday_price}\")\n",
    "print(\"\"\"My name is jon snow and \n",
    "not only do I know nothing by\n",
    "I also do nothing\"\"\")\n",
    "print(\"I'm using the \\\\n special character to create new lines\")"
   ]
  },
  {
   "cell_type": "code",
   "execution_count": 56,
   "id": "3a25a3bb-9710-445d-bf38-31605ee73d6c",
   "metadata": {},
   "outputs": [
    {
     "name": "stdout",
     "output_type": "stream",
     "text": [
      "30\n",
      "<class 'int'>\n",
      "30\n",
      "<class 'str'>\n",
      "Welcome o the multiplication program\n",
      "------------------------------\n"
     ]
    },
    {
     "name": "stdin",
     "output_type": "stream",
     "text": [
      "Enter a number to multiply->  10\n",
      "Enter a second number to multiply->  20\n"
     ]
    },
    {
     "name": "stdout",
     "output_type": "stream",
     "text": [
      "30\n",
      "<class 'int'>\n"
     ]
    }
   ],
   "source": [
    "num_1 = \"10\"\n",
    "num_2 = \"20\"\n",
    "result = int(num_1) + int(num_2)\n",
    "print(result)\n",
    "print(type(result))\n",
    "num_1 = 10\n",
    "num_2 = 20\n",
    "result = num_1 + num_2\n",
    "result = str(result)\n",
    "print(result)\n",
    "print(type(result))\n",
    "print(\"Welcome o the multiplication program\")\n",
    "print(\"-\"*30)\n",
    "num_1 = input(\"Enter a number to multiply-> \")\n",
    "num_2 = input(\"Enter a second number to multiply-> \")\n",
    "result = int(num_1) + int(num_2)\n",
    "print(result)\n",
    "print(type(result))"
   ]
  },
  {
   "cell_type": "code",
   "execution_count": 63,
   "id": "b022c34e-069b-490b-b4f2-e362af4f9eff",
   "metadata": {},
   "outputs": [
    {
     "name": "stdout",
     "output_type": "stream",
     "text": [
      "5\n",
      "0.4\n"
     ]
    }
   ],
   "source": [
    "# Question 1: What is the remainder when you divide 2510876961 by 7?\n",
    "# Don't forget to print your result to the screen!\n",
    "num_1 = 2510876961\n",
    "num_2 = 7\n",
    "## Fill in your code below, 1 line ##\n",
    "print(num_1 % num_2)\n",
    "## End question 1\n",
    "\n",
    "# Question 2: Python will place a higher order of importance to\n",
    "# operations specified within parenthesis. If you are given the 3\n",
    "# numbers below and asked to add the first two numbers first, then\n",
    "# divide by the third one, uncomment the line below that provides\n",
    "# the right result\n",
    "num_1 = 15\n",
    "num_2 = 25\n",
    "num_3 = 100\n",
    "## Uncomment the correct line below based on the question above\n",
    "# print(num_1 + num_2 / num_3)\n",
    "# print(num_1 / num_2 + num_3)\n",
    "# print(num_1 + (num_2 / num_3))\n",
    "print((num_1 + num_2) / num_3)\n",
    "## End question 2\n",
    "\n",
    "# Question 3: Import the randint function from the random module\n",
    "# so it can be used by it's name, randint, instead of referring\n",
    "# to the random module first\n",
    "## Write your code below, 1 line ##\n",
    "from random import randint\n",
    "my_num = randint(5,100) \n",
    "## End question 3"
   ]
  },
  {
   "cell_type": "code",
   "execution_count": null,
   "id": "93ef0746-00ea-4c86-a9de-18e06706d55d",
   "metadata": {},
   "outputs": [],
   "source": []
  }
 ],
 "metadata": {
  "kernelspec": {
   "display_name": "Python 3 (ipykernel)",
   "language": "python",
   "name": "python3"
  },
  "language_info": {
   "codemirror_mode": {
    "name": "ipython",
    "version": 3
   },
   "file_extension": ".py",
   "mimetype": "text/x-python",
   "name": "python",
   "nbconvert_exporter": "python",
   "pygments_lexer": "ipython3",
   "version": "3.9.13"
  }
 },
 "nbformat": 4,
 "nbformat_minor": 5
}
