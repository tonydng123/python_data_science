{
 "cells": [
  {
   "cell_type": "code",
   "execution_count": 8,
   "id": "adc9db3c-eafe-4c1c-bf58-0dc083d111e4",
   "metadata": {},
   "outputs": [
    {
     "name": "stdout",
     "output_type": "stream",
     "text": [
      "Tuples\n",
      "first\n",
      "(10, 9, 2, 5, 1, 3, 2, 'hi there', 8, 5, 4, 6, 7, 1, 'first')\n",
      "15\n",
      "2\n",
      "7\n",
      "second_value\n",
      "True\n",
      "first\n",
      "1\n",
      "7\n",
      "6\n",
      "4\n",
      "5\n",
      "8\n",
      "hi there\n",
      "2\n",
      "3\n",
      "1\n",
      "5\n",
      "2\n",
      "9\n",
      "10\n"
     ]
    }
   ],
   "source": [
    "# Tuples\n",
    "print(\"Tuples\")\n",
    "my_rand_tuple = ('first', 1,7,6,4,5,8, 'hi there', 2, 3,1,5,2,9,10)\n",
    "my_tuple = ('first_value', 'second_value', 'third_value')\n",
    "print(my_rand_tuple[0])\n",
    "print(my_rand_tuple[::-1])\n",
    "print(len(my_rand_tuple))\n",
    "print(my_rand_tuple.count(1))\n",
    "print(my_rand_tuple.index('hi there'))\n",
    "one, second, third = my_tuple\n",
    "print(second)\n",
    "print('first' in my_rand_tuple)\n",
    "for item in my_rand_tuple:\n",
    "    print(item)"
   ]
  },
  {
   "cell_type": "code",
   "execution_count": null,
   "id": "b171760b-83bf-4f02-8d09-51a968077333",
   "metadata": {},
   "outputs": [],
   "source": []
  }
 ],
 "metadata": {
  "kernelspec": {
   "display_name": "Python 3 (ipykernel)",
   "language": "python",
   "name": "python3"
  },
  "language_info": {
   "codemirror_mode": {
    "name": "ipython",
    "version": 3
   },
   "file_extension": ".py",
   "mimetype": "text/x-python",
   "name": "python",
   "nbconvert_exporter": "python",
   "pygments_lexer": "ipython3",
   "version": "3.9.13"
  }
 },
 "nbformat": 4,
 "nbformat_minor": 5
}
