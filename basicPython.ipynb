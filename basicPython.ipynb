{
 "cells": [
  {
   "cell_type": "code",
   "execution_count": 1,
   "id": "209514bf-8866-4e6c-a774-120da5b8fee3",
   "metadata": {},
   "outputs": [
    {
     "name": "stdout",
     "output_type": "stream",
     "text": [
      "The price of stock is: $1100\n"
     ]
    }
   ],
   "source": [
    "price = \"$1100\" \n",
    "message = \"The price of stock is:\"\n",
    "message = message + \" \" + price\n",
    "print(message)"
   ]
  },
  {
   "cell_type": "code",
   "execution_count": 2,
   "id": "2c13bf1c-67b6-4ca3-bbc2-e851898c25a2",
   "metadata": {},
   "outputs": [
    {
     "name": "stdout",
     "output_type": "stream",
     "text": [
      "hello mashrur welcome to the Algorithms course\n"
     ]
    }
   ],
   "source": [
    "greeting = \"hello\"\n",
    "user = \"mashrur\"\n",
    "message = \"welcome to the Algorithms course\"\n",
    "print(greeting, user, message)"
   ]
  },
  {
   "cell_type": "code",
   "execution_count": 3,
   "id": "0ae5992f-ff60-4432-8b3a-daf91275e332",
   "metadata": {},
   "outputs": [
    {
     "name": "stdout",
     "output_type": "stream",
     "text": [
      "hello Mashrur welcome to the Algorithms course\n"
     ]
    }
   ],
   "source": [
    "print(greeting, user.capitalize(), message)"
   ]
  },
  {
   "cell_type": "code",
   "execution_count": 4,
   "id": "cb8080ee-2db2-4369-902b-00ceab19cf93",
   "metadata": {},
   "outputs": [
    {
     "name": "stdout",
     "output_type": "stream",
     "text": [
      "['__add__', '__class__', '__contains__', '__delattr__', '__dir__', '__doc__', '__eq__', '__format__', '__ge__', '__getattribute__', '__getitem__', '__getnewargs__', '__gt__', '__hash__', '__init__', '__init_subclass__', '__iter__', '__le__', '__len__', '__lt__', '__mod__', '__mul__', '__ne__', '__new__', '__reduce__', '__reduce_ex__', '__repr__', '__rmod__', '__rmul__', '__setattr__', '__sizeof__', '__str__', '__subclasshook__', 'capitalize', 'casefold', 'center', 'count', 'encode', 'endswith', 'expandtabs', 'find', 'format', 'format_map', 'index', 'isalnum', 'isalpha', 'isascii', 'isdecimal', 'isdigit', 'isidentifier', 'islower', 'isnumeric', 'isprintable', 'isspace', 'istitle', 'isupper', 'join', 'ljust', 'lower', 'lstrip', 'maketrans', 'partition', 'removeprefix', 'removesuffix', 'replace', 'rfind', 'rindex', 'rjust', 'rpartition', 'rsplit', 'rstrip', 'split', 'splitlines', 'startswith', 'strip', 'swapcase', 'title', 'translate', 'upper', 'zfill']\n"
     ]
    }
   ],
   "source": [
    "print(dir(user))"
   ]
  },
  {
   "cell_type": "code",
   "execution_count": 5,
   "id": "c997c265-4a82-4170-9b81-a34114b28980",
   "metadata": {},
   "outputs": [
    {
     "name": "stdout",
     "output_type": "stream",
     "text": [
      "HELLO\n"
     ]
    }
   ],
   "source": [
    "print(greeting.upper())"
   ]
  },
  {
   "cell_type": "code",
   "execution_count": 6,
   "id": "bbf0cb6c-63e5-4c7e-b9a3-4d936ec66cce",
   "metadata": {},
   "outputs": [
    {
     "name": "stdout",
     "output_type": "stream",
     "text": [
      "welcome to the algorithms course\n"
     ]
    }
   ],
   "source": [
    "print(message.lower())"
   ]
  },
  {
   "cell_type": "code",
   "execution_count": 8,
   "id": "55b43bf3-230d-4b86-96dd-3b68a9f6fa88",
   "metadata": {},
   "outputs": [
    {
     "name": "stdout",
     "output_type": "stream",
     "text": [
      "WELCOME TO THE ALGORITHMS COURSE\n"
     ]
    }
   ],
   "source": [
    "message = \"   welcome to the algorithms course   \"\n",
    "print(message.strip().upper())"
   ]
  },
  {
   "cell_type": "code",
   "execution_count": 9,
   "id": "10c9b823-56d5-4ffb-96bd-0cfaa7ac786a",
   "metadata": {},
   "outputs": [
    {
     "name": "stdout",
     "output_type": "stream",
     "text": [
      "26\n",
      "-1\n"
     ]
    }
   ],
   "source": [
    "message = \"welcome to the Algorithms course\"\n",
    "print(message.find('course'))\n",
    "print(message.find('z'))"
   ]
  },
  {
   "cell_type": "code",
   "execution_count": 10,
   "id": "659eccda-baee-4a2d-befe-669b9faccb39",
   "metadata": {},
   "outputs": [
    {
     "name": "stdout",
     "output_type": "stream",
     "text": [
      "['welcome', 'to', 'the', 'Algorithms', 'course']\n"
     ]
    }
   ],
   "source": [
    "print(message.split())"
   ]
  },
  {
   "cell_type": "code",
   "execution_count": 12,
   "id": "d5784a71-8c3b-4d39-af77-15e965a18007",
   "metadata": {},
   "outputs": [
    {
     "name": "stdout",
     "output_type": "stream",
     "text": [
      "Python Ruby Javascript\n"
     ]
    }
   ],
   "source": [
    "my_languages = ['Python', 'Ruby', 'Javascript']\n",
    "print(\" \".join(my_languages))"
   ]
  },
  {
   "cell_type": "code",
   "execution_count": 13,
   "id": "ab0eaace-49b7-4ff3-be9e-a120a011d921",
   "metadata": {},
   "outputs": [
    {
     "name": "stdout",
     "output_type": "stream",
     "text": [
      "abcdefghijklmnopqrstuvwxyz\n"
     ]
    }
   ],
   "source": [
    "import string\n",
    "print(string.ascii_lowercase)"
   ]
  },
  {
   "cell_type": "code",
   "execution_count": null,
   "id": "65d156d2-f4b5-4539-9f8a-f88c244836d8",
   "metadata": {},
   "outputs": [],
   "source": []
  }
 ],
 "metadata": {
  "kernelspec": {
   "display_name": "Python 3 (ipykernel)",
   "language": "python",
   "name": "python3"
  },
  "language_info": {
   "codemirror_mode": {
    "name": "ipython",
    "version": 3
   },
   "file_extension": ".py",
   "mimetype": "text/x-python",
   "name": "python",
   "nbconvert_exporter": "python",
   "pygments_lexer": "ipython3",
   "version": "3.9.13"
  }
 },
 "nbformat": 4,
 "nbformat_minor": 5
}
