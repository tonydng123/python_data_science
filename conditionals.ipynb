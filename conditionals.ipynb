{
 "cells": [
  {
   "cell_type": "code",
   "execution_count": 21,
   "id": "5240638d-ea6d-4434-b39c-371bcf011ae2",
   "metadata": {},
   "outputs": [
    {
     "name": "stdout",
     "output_type": "stream",
     "text": [
      "Welcome to the calc program\n",
      "------------------------------\n"
     ]
    },
    {
     "name": "stdin",
     "output_type": "stream",
     "text": [
      "Choose 1 to multiply, 2 to divide->  1\n",
      "Enter first number->  2\n",
      "Enter second number->  45\n"
     ]
    },
    {
     "name": "stdout",
     "output_type": "stream",
     "text": [
      "2 multiplied by 45 is: 90\n"
     ]
    }
   ],
   "source": [
    "# Branching - if, elif, else\n",
    "# conditionals evaluating to boolean - True or False\n",
    "\n",
    "print(\"Welcome to the calc program\")\n",
    "print(\"-\"*30)\n",
    "choice = input(\"Choose 1 to multiply, 2 to divide-> \")\n",
    "if choice == \"1\" or choice == \"2\":\n",
    "    num_1 = int(input(\"Enter first number-> \"))\n",
    "    num_2 = int(input(\"Enter second number-> \"))\n",
    "    if choice == \"1\":\n",
    "        print(f\"{num_1} multiplied by {num_2} is: {num_1 * num_2}\")\n",
    "    else:\n",
    "        print(f\"{num_1} divided by {num_2} is: {num_1 / num_2}\")\n",
    "else:\n",
    "    print(\"You've mad an invalid selection\")"
   ]
  },
  {
   "cell_type": "code",
   "execution_count": null,
   "id": "b3b1da10-0bd1-4729-9d26-bed14048e035",
   "metadata": {},
   "outputs": [],
   "source": []
  }
 ],
 "metadata": {
  "kernelspec": {
   "display_name": "Python 3 (ipykernel)",
   "language": "python",
   "name": "python3"
  },
  "language_info": {
   "codemirror_mode": {
    "name": "ipython",
    "version": 3
   },
   "file_extension": ".py",
   "mimetype": "text/x-python",
   "name": "python",
   "nbconvert_exporter": "python",
   "pygments_lexer": "ipython3",
   "version": "3.9.13"
  }
 },
 "nbformat": 4,
 "nbformat_minor": 5
}
