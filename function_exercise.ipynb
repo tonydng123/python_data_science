{
 "cells": [
  {
   "cell_type": "code",
   "execution_count": null,
   "id": "3c544236-6186-47d2-b48f-7a15b6f8198d",
   "metadata": {},
   "outputs": [],
   "source": [
    "'''\n",
    "(Challenge exercise) Function and logic practice\n",
    "Casino 21: You are given a random number of integers with values ranging from 1 to 11. \n",
    "These are passed in to your function as ints. \n",
    "In python you can accept an uncertain number of arguments in functions like this using \n",
    "the *args parameter in the function. The function treats these parameter objects as a \n",
    "tuple. So if you passed in 4,5,6,7 as arguments when calling your function, the function\n",
    "would receive a tuple (4,5,6,7) as its parameter. You are required to write a function\n",
    "which takes the value of these integers as *args and works according to the following \n",
    "specifications:\n",
    "\n",
    "a) If the sum of all the integers are less than or equal to 21, return their sum in the \n",
    "form of a string using the .format() method to embed the value of the sum. If this \n",
    "returned value is printed, and the value were 20 for example, the output would look like \n",
    "this The value of your hand is 20.\n",
    "\n",
    "b) If their sum exceeds 21 and there are one or more 11's present among the integers, \n",
    "reduce the total sum by 10. If the sum is still over 21, check to see if there are \n",
    "more 11's and if so, reduce the sum by 10 again. \n",
    "\n",
    "c) If the sum exceeds 21 and no reductions are possible (either because there were \n",
    "no 11's to begin with or 10 has been reduced from the value of each 11 that was present \n",
    "already), return 'Busted!'.\n",
    "\n",
    "d) If the value of the integers add up to 21 and there is one integer 11 and another \n",
    "integer 10, return 'Winner Winner Chicken Dinner!'\n",
    "'''\n",
    "def get_hand_value(*args):\n",
    "    my_tuple = args\n",
    "    my_list = list(my_tuple)\n",
    "    total = sum(my_list)\n",
    "    ans = 0\n",
    "    if total <= 21:\n",
    "        if (my_list[0] == 10 and my_list[1] == 11) or (my_list[0] == 11 and my_list[1] == 10):\n",
    "            ans =  'Winner Winner Chicken Dinner!'\n",
    "        else:\n",
    "            ans = \"The value of your hand is \" + str(total)\n",
    "    else:\n",
    "        for num in my_list:\n",
    "            if num == 11:\n",
    "                total -= 10\n",
    "        if total > 21:\n",
    "            ans = \"Busted!\"\n",
    "        else:\n",
    "            ans = \"The value of your hand is \" + str(total)\n",
    "    \n",
    "    return ans"
   ]
  }
 ],
 "metadata": {
  "kernelspec": {
   "display_name": "Python 3 (ipykernel)",
   "language": "python",
   "name": "python3"
  },
  "language_info": {
   "codemirror_mode": {
    "name": "ipython",
    "version": 3
   },
   "file_extension": ".py",
   "mimetype": "text/x-python",
   "name": "python",
   "nbconvert_exporter": "python",
   "pygments_lexer": "ipython3",
   "version": "3.9.13"
  }
 },
 "nbformat": 4,
 "nbformat_minor": 5
}
