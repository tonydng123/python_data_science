{
 "cells": [
  {
   "cell_type": "code",
   "execution_count": 14,
   "id": "6675fe26-c1e5-4f0a-b4a6-017ce94cf6d4",
   "metadata": {},
   "outputs": [
    {
     "name": "stdout",
     "output_type": "stream",
     "text": [
      "set\n",
      "{1, 2, 6, 'python', 8, 9, 'java', 10, 1000, 'ruby', 21}\n",
      "[1, 6, 2, 'java', 'ruby', 'java', 8, 9, 10, 21, 1000, 'python', 6, 6, 6]\n",
      "{1, 2, 6, 'python', 8, 9, 'java', 10, 1000, 'ruby', 21}\n",
      "True\n",
      "{'java', 'ruby', 'python'}\n",
      "{1, 2, 'javascript', 6, 'python', 8, 9, 'java', 10, 1000, 'c', 'ruby', 21}\n",
      "{1, 2, 6, 8, 9, 10, 1000, 21}\n",
      "{'c', 'javascript'}\n",
      "1\n",
      "2\n",
      "6\n",
      "python\n",
      "8\n",
      "9\n",
      "java\n",
      "10\n",
      "1000\n",
      "ruby\n",
      "21\n"
     ]
    }
   ],
   "source": [
    "# set\n",
    "print(\"set\")\n",
    "my_set = {1, 6, 2, 'java', 'ruby', 8, 9, 10, 21, 1000, 'python', 6, 6, 6}\n",
    "print(my_set)\n",
    "my_list = [1, 6, 2, 'java', 'ruby', 'java', 8, 9, 10, 21, 1000, 'python', 6, 6, 6]\n",
    "print(my_list)\n",
    "convert_to_set = set(my_list)\n",
    "print(convert_to_set)\n",
    "print('java' in my_set)\n",
    "programming_set = {'java', 'ruby', 'javascript', 'python', 'c'}\n",
    "print(my_set.intersection(programming_set))\n",
    "print(my_set.union(programming_set))\n",
    "print(my_set.difference(programming_set))\n",
    "print(programming_set.difference(my_set))\n",
    "\n",
    "for item in my_set:\n",
    "    print(item)"
   ]
  },
  {
   "cell_type": "code",
   "execution_count": null,
   "id": "f5cf0583-a5d2-4d9c-8364-8adf235af8dd",
   "metadata": {},
   "outputs": [],
   "source": []
  }
 ],
 "metadata": {
  "kernelspec": {
   "display_name": "Python 3 (ipykernel)",
   "language": "python",
   "name": "python3"
  },
  "language_info": {
   "codemirror_mode": {
    "name": "ipython",
    "version": 3
   },
   "file_extension": ".py",
   "mimetype": "text/x-python",
   "name": "python",
   "nbconvert_exporter": "python",
   "pygments_lexer": "ipython3",
   "version": "3.9.13"
  }
 },
 "nbformat": 4,
 "nbformat_minor": 5
}
